{
 "cells": [
  {
   "cell_type": "code",
   "execution_count": null,
   "metadata": {},
   "outputs": [],
   "source": [
    "import sqlite3\n",
    "\n",
    "# Membuat koneksi ke database (atau membuat database baru jika belum ada)\n",
    "conn = sqlite3.connect('example.db')\n",
    "\n",
    "# Membuat objek cursor\n",
    "cursor = conn.cursor()\n",
    "\n",
    "# Membuat tabel baru\n",
    "cursor.execute('''\n",
    "    CREATE TABLE IF NOT EXISTS users (\n",
    "        id INTEGER PRIMARY KEY,\n",
    "        name TEXT,\n",
    "        age INTEGER\n",
    "    )\n",
    "''')\n",
    "\n",
    "# Menyisipkan data ke tabel\n",
    "cursor.execute('''\n",
    "    INSERT INTO users (name, age) VALUES (?, ?)\n",
    "''', ('Alice', 25))\n",
    "\n",
    "# Menyimpan perubahan\n",
    "conn.commit()\n",
    "\n",
    "# Mengambil data dari tabel\n",
    "cursor.execute('SELECT * FROM users')\n",
    "rows = cursor.fetchall()\n",
    "\n",
    "# Menampilkan data yang diambil\n",
    "for row in rows:\n",
    "    print(row)\n",
    "\n",
    "# Menutup koneksi\n",
    "conn.close()\n"
   ]
  },
  {
   "cell_type": "markdown",
   "metadata": {},
   "source": [
    "https://colab.research.google.com/drive/1O_STinTxTfs0IWAIn-5fJaLhR_7Mg48d?usp=sharing"
   ]
  }
 ],
 "metadata": {
  "language_info": {
   "name": "python"
  }
 },
 "nbformat": 4,
 "nbformat_minor": 2
}
