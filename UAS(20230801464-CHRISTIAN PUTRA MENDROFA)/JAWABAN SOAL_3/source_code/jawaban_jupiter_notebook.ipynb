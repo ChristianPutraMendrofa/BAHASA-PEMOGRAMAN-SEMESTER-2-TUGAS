import tkinter as tk
from tkinter import messagebox
from tkinter import ttk

class FinancialApp:
    def __init__(self, root):
        self.root = root
        self.root.title("Aplikasi Data Keuangan")
        self.root.geometry("600x400")

        # Frame untuk input data
        self.frame_input = tk.Frame(self.root)
        self.frame_input.pack(pady=10)

        self.label_date = tk.Label(self.frame_input, text="Tanggal:")
        self.label_date.grid(row=0, column=0, padx=5, pady=5)
        self.entry_date = tk.Entry(self.frame_input)
        self.entry_date.grid(row=0, column=1, padx=5, pady=5)

        self.label_description = tk.Label(self.frame_input, text="Deskripsi:")
        self.label_description.grid(row=1, column=0, padx=5, pady=5)
        self.entry_description = tk.Entry(self.frame_input)
        self.entry_description.grid(row=1, column=1, padx=5, pady=5)

        self.label_amount = tk.Label(self.frame_input, text="Jumlah:")
        self.label_amount.grid(row=2, column=0, padx=5, pady=5)
        self.entry_amount = tk.Entry(self.frame_input)
        self.entry_amount.grid(row=2, column=1, padx=5, pady=5)

        self.button_add = tk.Button(self.frame_input, text="Tambah Transaksi", command=self.add_transaction)
        self.button_add.grid(row=3, column=0, columnspan=2, pady=10)

        # Frame untuk tabel transaksi
        self.frame_table = tk.Frame(self.root)
        self.frame_table.pack(pady=10)

        self.tree = ttk.Treeview(self.frame_table, columns=("Date", "Description", "Amount"), show='headings')
        self.tree.heading("Date", text="Tanggal")
        self.tree.heading("Description", text="Deskripsi")
        self.tree.heading("Amount", text="Jumlah")
        self.tree.pack()

        # Frame untuk total
        self.frame_total = tk.Frame(self.root)
        self.frame_total.pack(pady=10)

        self.label_total = tk.Label(self.frame_total, text="Total Pengeluaran: Rp 0")
        self.label_total.pack()

        self.transactions = []

    def add_transaction(self):
        date = self.entry_date.get()
        description = self.entry_description.get()
        amount = self.entry_amount.get()

        if not date or not description or not amount:
            messagebox.showwarning("Input Error", "Harap isi semua kolom!")
            return

        try:
            amount = float(amount)
        except ValueError:
            messagebox.showwarning("Input Error", "Jumlah harus berupa angka!")
            return

        self.transactions.append((date, description, amount))
        self.update_table()
        self.update_total()

        self.entry_date.delete(0, tk.END)
        self.entry_description.delete(0, tk.END)
        self.entry_amount.delete(0, tk.END)

    def update_table(self):
        for row in self.tree.get_children():
            self.tree.delete(row)

        for transaction in self.transactions:
            self.tree.insert("", tk.END, values=transaction)

    def update_total(self):
        total = sum(transaction[2] for transaction in self.transactions)
        self.label_total.config(text=f"Total Pengeluaran: Rp {total:.2f}")

if __name__ == "__main__":
    root = tk.Tk()
    app = FinancialApp(root)
    root.mainloop()
