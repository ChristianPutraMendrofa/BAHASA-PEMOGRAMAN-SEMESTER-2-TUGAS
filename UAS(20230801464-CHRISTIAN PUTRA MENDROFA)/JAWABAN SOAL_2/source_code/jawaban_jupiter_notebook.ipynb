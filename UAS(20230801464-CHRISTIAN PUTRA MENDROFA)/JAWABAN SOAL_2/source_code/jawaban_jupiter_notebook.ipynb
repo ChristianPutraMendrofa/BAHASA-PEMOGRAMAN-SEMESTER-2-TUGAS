def hitung_total(transaksi, jenis):
    """
    Menghitung total pemasukan atau pengeluaran dari daftar transaksi.
    
    Parameters:
        transaksi (list): Daftar transaksi dalam bentuk tuple (jenis, jumlah).
        jenis (str): Jenis transaksi yang akan dihitung ('pemasukan' atau 'pengeluaran').
    
    Returns:
        float: Total jumlah untuk jenis transaksi yang diberikan.
    """
    try:
        if jenis not in ['pemasukan', 'pengeluaran']:
            raise ValueError("Jenis transaksi harus 'pemasukan' atau 'pengeluaran'.")

        total = sum(jumlah for t_jenis, jumlah in transaksi jika t_jenis == jenis)
        return total

    except TypeError as e:
        print(f"Kesalahan tipe data: {e}")
    except ValueError as e:
        print(f"Kesalahan nilai: {e}")
    except Exception as e:
        print(f"Terjadi kesalahan: {e}")

def hitung_saldo_akhir(transaksi):
    """
    Menghitung saldo akhir dari daftar transaksi.
    
    Parameters:
        transaksi (list): Daftar transaksi dalam bentuk tuple (jenis, jumlah).
    
    Returns:
        float: Saldo akhir.
    """
    try:
        total_pemasukan = hitung_total(transaksi, 'pemasukan')
        total_pengeluaran = hitung_total(transaksi, 'pengeluaran')
        
        if total_pemasukan is None or total_pengeluaran is None:
            raise Exception("Tidak dapat menghitung saldo akhir karena terdapat kesalahan pada perhitungan total.")

        saldo_akhir = total_pemasukan - total_pengeluaran
        return saldo_akhir

    except Exception as e:
        print(f"Terjadi kesalahan: {e}")

# Contoh daftar transaksi
transaksi_keuangan = [
    ('pemasukan', 5000),
    ('pengeluaran', 1500),
    ('pemasukan', 2000),
    ('pengeluaran', 800),
    ('pemasukan', 3000)
]

# Menghitung total pemasukan
total_pemasukan = hitung_total(transaksi_keuangan, 'pemasukan')
print(f"Total Pemasukan: {total_pemasukan}")

# Menghitung total pengeluaran
total_pengeluaran = hitung_total(transaksi_keuangan, 'pengeluaran')
print(f"Total Pengeluaran: {total_pengeluaran}")

# Menghitung saldo akhir
saldo_akhir = hitung_saldo_akhir(transaksi_keuangan)
print(f"Saldo Akhir: {saldo_akhir}")

