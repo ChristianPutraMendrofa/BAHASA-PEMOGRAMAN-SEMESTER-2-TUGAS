def rata_rata_pengeluaran(pengeluaran):
    total = sum(pengeluaran)
    jumlah_bulan = len(pengeluaran)
    return total / jumlah_bulan

# Contoh penggunaan function
pengeluaran_bulanan = [5000000, 4500000, 6000000, 5200000, 4900000]
print(f"Rata-rata pengeluaran bulanan: {rata_rata_pengeluaran(pengeluaran_bulanan):,.2f}")


def total_utang(utang_awal, bunga_bulanan, bulan):
    if bulan == 0:
        return utang_awal
    else:
        return total_utang(utang_awal * (1 + bunga_bulanan), bunga_bulanan, bulan - 1)

# Contoh penggunaan recursive function
utang_awal = 10000000
bunga_bulanan = 0.02  # 2% per bulan
bulan = 12
print(f"Total utang setelah {bulan} bulan: {total_utang(utang_awal, bunga_bulanan, bulan):,.2f}")
